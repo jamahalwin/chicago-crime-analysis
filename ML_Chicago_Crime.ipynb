{
  "nbformat": 4,
  "nbformat_minor": 0,
  "metadata": {
    "colab": {
      "name": "ML-Chicago-Crime.ipynb",
      "provenance": [],
      "collapsed_sections": [],
      "toc_visible": true,
      "authorship_tag": "ABX9TyNggxiayqTyhmaypMdweb39",
      "include_colab_link": true
    },
    "kernelspec": {
      "name": "python3",
      "display_name": "Python 3"
    }
  },
  "cells": [
    {
      "cell_type": "markdown",
      "metadata": {
        "id": "view-in-github",
        "colab_type": "text"
      },
      "source": [
        "<a href=\"https://colab.research.google.com/github/jamahalwin/chicago-crime-analysis/blob/master/ML_Chicago_Crime.ipynb\" target=\"_parent\"><img src=\"https://colab.research.google.com/assets/colab-badge.svg\" alt=\"Open In Colab\"/></a>"
      ]
    },
    {
      "cell_type": "markdown",
      "metadata": {
        "id": "K2Yhh6W2gC4y",
        "colab_type": "text"
      },
      "source": [
        "Chicago Crime Analysis"
      ]
    },
    {
      "cell_type": "code",
      "metadata": {
        "id": "iHfna2zkgPqi",
        "colab_type": "code",
        "colab": {
          "base_uri": "https://localhost:8080/",
          "height": 459
        },
        "outputId": "7a1a3810-bc2f-4c10-e994-2e60fcf0e08d"
      },
      "source": [
        "# Use seaborn for pairplot\n",
        "!pip install seaborn\n",
        "\n",
        "# Use some functions from tensorflow_docs\n",
        "!pip install git+https://github.com/tensorflow/docs"
      ],
      "execution_count": 1,
      "outputs": [
        {
          "output_type": "stream",
          "text": [
            "Requirement already satisfied: seaborn in /usr/local/lib/python3.6/dist-packages (0.10.0)\n",
            "Requirement already satisfied: pandas>=0.22.0 in /usr/local/lib/python3.6/dist-packages (from seaborn) (0.25.3)\n",
            "Requirement already satisfied: scipy>=1.0.1 in /usr/local/lib/python3.6/dist-packages (from seaborn) (1.4.1)\n",
            "Requirement already satisfied: matplotlib>=2.1.2 in /usr/local/lib/python3.6/dist-packages (from seaborn) (3.1.3)\n",
            "Requirement already satisfied: numpy>=1.13.3 in /usr/local/lib/python3.6/dist-packages (from seaborn) (1.17.5)\n",
            "Requirement already satisfied: pytz>=2017.2 in /usr/local/lib/python3.6/dist-packages (from pandas>=0.22.0->seaborn) (2018.9)\n",
            "Requirement already satisfied: python-dateutil>=2.6.1 in /usr/local/lib/python3.6/dist-packages (from pandas>=0.22.0->seaborn) (2.6.1)\n",
            "Requirement already satisfied: kiwisolver>=1.0.1 in /usr/local/lib/python3.6/dist-packages (from matplotlib>=2.1.2->seaborn) (1.1.0)\n",
            "Requirement already satisfied: pyparsing!=2.0.4,!=2.1.2,!=2.1.6,>=2.0.1 in /usr/local/lib/python3.6/dist-packages (from matplotlib>=2.1.2->seaborn) (2.4.6)\n",
            "Requirement already satisfied: cycler>=0.10 in /usr/local/lib/python3.6/dist-packages (from matplotlib>=2.1.2->seaborn) (0.10.0)\n",
            "Requirement already satisfied: six>=1.5 in /usr/local/lib/python3.6/dist-packages (from python-dateutil>=2.6.1->pandas>=0.22.0->seaborn) (1.12.0)\n",
            "Requirement already satisfied: setuptools in /usr/local/lib/python3.6/dist-packages (from kiwisolver>=1.0.1->matplotlib>=2.1.2->seaborn) (45.1.0)\n",
            "Collecting git+https://github.com/tensorflow/docs\n",
            "  Cloning https://github.com/tensorflow/docs to /tmp/pip-req-build-voegxgy_\n",
            "  Running command git clone -q https://github.com/tensorflow/docs /tmp/pip-req-build-voegxgy_\n",
            "Requirement already satisfied (use --upgrade to upgrade): tensorflow-docs==0.0.0 from git+https://github.com/tensorflow/docs in /usr/local/lib/python3.6/dist-packages\n",
            "Requirement already satisfied: astor in /usr/local/lib/python3.6/dist-packages (from tensorflow-docs==0.0.0) (0.8.1)\n",
            "Requirement already satisfied: absl-py in /usr/local/lib/python3.6/dist-packages (from tensorflow-docs==0.0.0) (0.9.0)\n",
            "Requirement already satisfied: six in /usr/local/lib/python3.6/dist-packages (from tensorflow-docs==0.0.0) (1.12.0)\n",
            "Requirement already satisfied: pathlib2 in /usr/local/lib/python3.6/dist-packages (from tensorflow-docs==0.0.0) (2.3.5)\n",
            "Requirement already satisfied: pyyaml in /usr/local/lib/python3.6/dist-packages (from tensorflow-docs==0.0.0) (3.13)\n",
            "Building wheels for collected packages: tensorflow-docs\n",
            "  Building wheel for tensorflow-docs (setup.py) ... \u001b[?25l\u001b[?25hdone\n",
            "  Created wheel for tensorflow-docs: filename=tensorflow_docs-0.0.0-cp36-none-any.whl size=77942 sha256=f32ecc513fc86ff3c9c99c85671ef5b2edbae3cc86025b7e34129304cf052682\n",
            "  Stored in directory: /tmp/pip-ephem-wheel-cache-l3otiakq/wheels/eb/1b/35/fce87697be00d2fc63e0b4b395b0d9c7e391a10e98d9a0d97f\n",
            "Successfully built tensorflow-docs\n"
          ],
          "name": "stdout"
        }
      ]
    },
    {
      "cell_type": "code",
      "metadata": {
        "id": "30FWvguZgVlG",
        "colab_type": "code",
        "colab": {}
      },
      "source": [
        "from __future__ import absolute_import, division, print_function, unicode_literals\n",
        "\n",
        "import pathlib\n",
        "\n",
        "import matplotlib.pyplot as plt\n",
        "import numpy as np\n",
        "import pandas as pd\n",
        "import seaborn as sns"
      ],
      "execution_count": 0,
      "outputs": []
    },
    {
      "cell_type": "code",
      "metadata": {
        "id": "-j1Z8zUvgsUt",
        "colab_type": "code",
        "colab": {
          "base_uri": "https://localhost:8080/",
          "height": 63
        },
        "outputId": "4a3284cc-18a9-4d73-d311-28ae982153bd"
      },
      "source": [
        "import tensorflow as tf\n",
        "\n",
        "from tensorflow import keras\n",
        "from tensorflow.keras import layers"
      ],
      "execution_count": 3,
      "outputs": [
        {
          "output_type": "display_data",
          "data": {
            "text/html": [
              "<p style=\"color: red;\">\n",
              "The default version of TensorFlow in Colab will soon switch to TensorFlow 2.x.<br>\n",
              "We recommend you <a href=\"https://www.tensorflow.org/guide/migrate\" target=\"_blank\">upgrade</a> now \n",
              "or ensure your notebook will continue to use TensorFlow 1.x via the <code>%tensorflow_version 1.x</code> magic:\n",
              "<a href=\"https://colab.research.google.com/notebooks/tensorflow_version.ipynb\" target=\"_blank\">more info</a>.</p>\n"
            ],
            "text/plain": [
              "<IPython.core.display.HTML object>"
            ]
          },
          "metadata": {
            "tags": []
          }
        }
      ]
    },
    {
      "cell_type": "code",
      "metadata": {
        "colab_type": "code",
        "id": "p9kxxgzvzlyz",
        "colab": {
          "base_uri": "https://localhost:8080/",
          "height": 68
        },
        "outputId": "2da22315-425a-4e52-e840-629e5138ddca"
      },
      "source": [
        "dataset_path =  keras.utils.get_file('chicago-crime-sample.data', 'https://raw.githubusercontent.com/jamahalwin/chicago-crime-analysis/master/Chicago_Crimes_Project_Data.csv')\n",
        "dataset_path"
      ],
      "execution_count": 4,
      "outputs": [
        {
          "output_type": "stream",
          "text": [
            "Downloading data from https://raw.githubusercontent.com/jamahalwin/chicago-crime-analysis/master/Chicago_Crimes_Project_Data.csv\n",
            "24576/17814 [=========================================] - 0s 0us/step\n"
          ],
          "name": "stdout"
        },
        {
          "output_type": "execute_result",
          "data": {
            "text/plain": [
              "'/root/.keras/datasets/chicago-crime-sample.data'"
            ]
          },
          "metadata": {
            "tags": []
          },
          "execution_count": 4
        }
      ]
    },
    {
      "cell_type": "code",
      "metadata": {
        "id": "dCQcmzMshYos",
        "colab_type": "code",
        "colab": {
          "base_uri": "https://localhost:8080/",
          "height": 394
        },
        "outputId": "f7d5edd0-93f8-44fb-f4e9-29ec55cacc35"
      },
      "source": [
        "column_names = ['ID','Case Number', 'Date', 'Block', 'IUCR', 'Primary Type',\n",
        "                'Description', 'Location Description', 'Arrest',\n",
        "                'Domestic', 'Beat', 'District', 'Ward', 'Community Area',\n",
        "                'FBI Code', 'X Coordinate', 'Y Coordinate', 'Year', 'Updated On',\n",
        "                'Latitude', 'Longitude', 'Location']\n",
        "raw_dataset = pd.read_csv(dataset_path, names=column_names,\n",
        "                      na_values = \"?\", comment='\\t',\n",
        "                      sep=\",\", skipinitialspace=False)\n",
        "\n",
        "dataset = raw_dataset.copy()\n",
        "dataset.tail()"
      ],
      "execution_count": 8,
      "outputs": [
        {
          "output_type": "execute_result",
          "data": {
            "text/html": [
              "<div>\n",
              "<style scoped>\n",
              "    .dataframe tbody tr th:only-of-type {\n",
              "        vertical-align: middle;\n",
              "    }\n",
              "\n",
              "    .dataframe tbody tr th {\n",
              "        vertical-align: top;\n",
              "    }\n",
              "\n",
              "    .dataframe thead th {\n",
              "        text-align: right;\n",
              "    }\n",
              "</style>\n",
              "<table border=\"1\" class=\"dataframe\">\n",
              "  <thead>\n",
              "    <tr style=\"text-align: right;\">\n",
              "      <th></th>\n",
              "      <th>ID</th>\n",
              "      <th>Case Number</th>\n",
              "      <th>Date</th>\n",
              "      <th>Block</th>\n",
              "      <th>IUCR</th>\n",
              "      <th>Primary Type</th>\n",
              "      <th>Description</th>\n",
              "      <th>Location Description</th>\n",
              "      <th>Arrest</th>\n",
              "      <th>Domestic</th>\n",
              "      <th>Beat</th>\n",
              "      <th>District</th>\n",
              "      <th>Ward</th>\n",
              "      <th>Community Area</th>\n",
              "      <th>FBI Code</th>\n",
              "      <th>X Coordinate</th>\n",
              "      <th>Y Coordinate</th>\n",
              "      <th>Year</th>\n",
              "      <th>Updated On</th>\n",
              "      <th>Latitude</th>\n",
              "      <th>Longitude</th>\n",
              "      <th>Location</th>\n",
              "    </tr>\n",
              "  </thead>\n",
              "  <tbody>\n",
              "    <tr>\n",
              "      <th>77</th>\n",
              "      <td>10509764</td>\n",
              "      <td>HZ249689</td>\n",
              "      <td>5/3/2016 12:15</td>\n",
              "      <td>061XX S MORGAN ST</td>\n",
              "      <td>820</td>\n",
              "      <td>THEFT</td>\n",
              "      <td>$500 AND UNDER</td>\n",
              "      <td>APARTMENT</td>\n",
              "      <td>FALSE</td>\n",
              "      <td>FALSE</td>\n",
              "      <td>712</td>\n",
              "      <td>7</td>\n",
              "      <td>16</td>\n",
              "      <td>68</td>\n",
              "      <td>6</td>\n",
              "      <td>1170696</td>\n",
              "      <td>1864158</td>\n",
              "      <td>2016</td>\n",
              "      <td>5/10/2016 15:56</td>\n",
              "      <td>41.78272837</td>\n",
              "      <td>-87.64972028</td>\n",
              "      <td>(41.782728365, -87.649720276)</td>\n",
              "    </tr>\n",
              "    <tr>\n",
              "      <th>78</th>\n",
              "      <td>10509769</td>\n",
              "      <td>HZ251010</td>\n",
              "      <td>5/3/2016 20:30</td>\n",
              "      <td>014XX N AVERS AVE</td>\n",
              "      <td>320</td>\n",
              "      <td>ROBBERY</td>\n",
              "      <td>STRONGARM - NO WEAPON</td>\n",
              "      <td>SIDEWALK</td>\n",
              "      <td>FALSE</td>\n",
              "      <td>FALSE</td>\n",
              "      <td>2535</td>\n",
              "      <td>25</td>\n",
              "      <td>30</td>\n",
              "      <td>23</td>\n",
              "      <td>3</td>\n",
              "      <td>1150444</td>\n",
              "      <td>1909392</td>\n",
              "      <td>2016</td>\n",
              "      <td>5/10/2016 15:56</td>\n",
              "      <td>41.90727403</td>\n",
              "      <td>-87.72279189</td>\n",
              "      <td>(41.907274031, -87.722791892)</td>\n",
              "    </tr>\n",
              "    <tr>\n",
              "      <th>79</th>\n",
              "      <td>10509770</td>\n",
              "      <td>HZ250329</td>\n",
              "      <td>5/3/2016 9:00</td>\n",
              "      <td>048XX W EDDY ST</td>\n",
              "      <td>486</td>\n",
              "      <td>BATTERY</td>\n",
              "      <td>DOMESTIC BATTERY SIMPLE</td>\n",
              "      <td>APARTMENT</td>\n",
              "      <td>FALSE</td>\n",
              "      <td>TRUE</td>\n",
              "      <td>1634</td>\n",
              "      <td>16</td>\n",
              "      <td>38</td>\n",
              "      <td>15</td>\n",
              "      <td>08B</td>\n",
              "      <td>1143575</td>\n",
              "      <td>1923186</td>\n",
              "      <td>2016</td>\n",
              "      <td>5/10/2016 15:56</td>\n",
              "      <td>41.94525754</td>\n",
              "      <td>-87.74767892</td>\n",
              "      <td>(41.945257538, -87.74767892)</td>\n",
              "    </tr>\n",
              "    <tr>\n",
              "      <th>80</th>\n",
              "      <td>10509783</td>\n",
              "      <td>HZ251242</td>\n",
              "      <td>5/3/2016 12:15</td>\n",
              "      <td>013XX E 72ND ST</td>\n",
              "      <td>460</td>\n",
              "      <td>BATTERY</td>\n",
              "      <td>SIMPLE</td>\n",
              "      <td>SCHOOL, PUBLIC, BUILDING</td>\n",
              "      <td>FALSE</td>\n",
              "      <td>FALSE</td>\n",
              "      <td>324</td>\n",
              "      <td>3</td>\n",
              "      <td>5</td>\n",
              "      <td>43</td>\n",
              "      <td>08B</td>\n",
              "      <td>1186321</td>\n",
              "      <td>1857530</td>\n",
              "      <td>2016</td>\n",
              "      <td>5/10/2016 15:56</td>\n",
              "      <td>41.76418539</td>\n",
              "      <td>-87.5926442</td>\n",
              "      <td>(41.764185391, -87.592644199)</td>\n",
              "    </tr>\n",
              "    <tr>\n",
              "      <th>81</th>\n",
              "      <td>10509784</td>\n",
              "      <td>HZ251276</td>\n",
              "      <td>5/3/2016 20:00</td>\n",
              "      <td>062XX N NEWCASTLE AVE</td>\n",
              "      <td>810</td>\n",
              "      <td>THEFT</td>\n",
              "      <td>OVER $500</td>\n",
              "      <td>STREET</td>\n",
              "      <td>FALSE</td>\n",
              "      <td>FALSE</td>\n",
              "      <td>1611</td>\n",
              "      <td>16</td>\n",
              "      <td>41</td>\n",
              "      <td>10</td>\n",
              "      <td>6</td>\n",
              "      <td>1130189</td>\n",
              "      <td>1940933</td>\n",
              "      <td>2016</td>\n",
              "      <td>5/10/2016 15:56</td>\n",
              "      <td>41.99419755</td>\n",
              "      <td>-87.79647287</td>\n",
              "      <td>(41.994197554, -87.796472871)</td>\n",
              "    </tr>\n",
              "  </tbody>\n",
              "</table>\n",
              "</div>"
            ],
            "text/plain": [
              "          ID Case Number  ...     Longitude                       Location\n",
              "77  10509764    HZ249689  ...  -87.64972028  (41.782728365, -87.649720276)\n",
              "78  10509769    HZ251010  ...  -87.72279189  (41.907274031, -87.722791892)\n",
              "79  10509770    HZ250329  ...  -87.74767892   (41.945257538, -87.74767892)\n",
              "80  10509783    HZ251242  ...   -87.5926442  (41.764185391, -87.592644199)\n",
              "81  10509784    HZ251276  ...  -87.79647287  (41.994197554, -87.796472871)\n",
              "\n",
              "[5 rows x 22 columns]"
            ]
          },
          "metadata": {
            "tags": []
          },
          "execution_count": 8
        }
      ]
    },
    {
      "cell_type": "markdown",
      "metadata": {
        "id": "uywdBWDz4VTY",
        "colab_type": "text"
      },
      "source": [
        "# New Section"
      ]
    }
  ]
}