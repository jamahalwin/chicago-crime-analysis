{
  "nbformat": 4,
  "nbformat_minor": 0,
  "metadata": {
    "colab": {
      "name": "ML-Chicago-Crime.ipynb",
      "provenance": [],
      "collapsed_sections": [],
      "toc_visible": true,
      "authorship_tag": "ABX9TyPCYRlC5stNXvoQeAU0AGjG",
      "include_colab_link": true
    },
    "kernelspec": {
      "name": "python3",
      "display_name": "Python 3"
    }
  },
  "cells": [
    {
      "cell_type": "markdown",
      "metadata": {
        "id": "view-in-github",
        "colab_type": "text"
      },
      "source": [
        "<a href=\"https://colab.research.google.com/github/jamahalwin/chicago-crime-analysis/blob/master/ML_Chicago_Crime.ipynb\" target=\"_parent\"><img src=\"https://colab.research.google.com/assets/colab-badge.svg\" alt=\"Open In Colab\"/></a>"
      ]
    },
    {
      "cell_type": "markdown",
      "metadata": {
        "id": "K2Yhh6W2gC4y",
        "colab_type": "text"
      },
      "source": [
        "Chicago Crime Analysis"
      ]
    },
    {
      "cell_type": "code",
      "metadata": {
        "id": "iHfna2zkgPqi",
        "colab_type": "code",
        "colab": {}
      },
      "source": [
        "# Use seaborn for pairplot\n",
        "!pip install seaborn\n",
        "\n",
        "# Use some functions from tensorflow_docs\n",
        "!pip install git+https://github.com/tensorflow/docs"
      ],
      "execution_count": 0,
      "outputs": []
    },
    {
      "cell_type": "code",
      "metadata": {
        "id": "30FWvguZgVlG",
        "colab_type": "code",
        "colab": {}
      },
      "source": [
        "from __future__ import absolute_import, division, print_function, unicode_literals\n",
        "\n",
        "import pathlib\n",
        "import matplotlib.pyplot as plt\n",
        "import matplotlib.patches as mpatches\n",
        "import numpy as np\n",
        "import pandas as pd\n",
        "import seaborn as sns\n",
        "import tensorflow as tf\n",
        "from tensorflow import keras\n",
        "from tensorflow.keras import layers"
      ],
      "execution_count": 0,
      "outputs": []
    },
    {
      "cell_type": "code",
      "metadata": {
        "id": "-j1Z8zUvgsUt",
        "colab_type": "code",
        "colab": {}
      },
      "source": [
        "dataset_path =  keras.utils.get_file('chicago-crime-sample', 'https://raw.githubusercontent.com/jamahalwin/chicago-crime-analysis/master/Chicago_Crimes_Sample_Data.csv')"
      ],
      "execution_count": 0,
      "outputs": []
    },
    {
      "cell_type": "code",
      "metadata": {
        "colab_type": "code",
        "id": "p9kxxgzvzlyz",
        "colab": {}
      },
      "source": [
        "raw_dataset = pd.read_csv(dataset_path,\n",
        "                      na_values = \"?\", comment='\\t',\n",
        "                      sep=\",\", skipinitialspace=True)\n",
        "\n",
        "homicides = dataset[raw_dataset[\"Primary_Type\"]==\"HOMICIDE\"]"
      ],
      "execution_count": 0,
      "outputs": []
    },
    {
      "cell_type": "code",
      "metadata": {
        "id": "dCQcmzMshYos",
        "colab_type": "code",
        "colab": {}
      },
      "source": [
        "# K Means Implmentation\n",
        "np.random.seed(200)\n",
        "k = 2 \n",
        "# centroids[i] [x, y]\n",
        "centroids = {\n",
        "    i+1: [np.random.randint(homicides['X_Coordinate'].min(), homicides['X_Coordinate'].max()), np.random.randint(homicides['Y_Coordinate'].min(), homicides['Y_Coordinate'].max())]\n",
        "    for i in range(k)\n",
        "}"
      ],
      "execution_count": 0,
      "outputs": []
    },
    {
      "cell_type": "code",
      "metadata": {
        "id": "VWR64b30qUtV",
        "colab_type": "code",
        "outputId": "0ad48267-b8dd-4372-e90b-35c87cfb31e5",
        "colab": {
          "base_uri": "https://localhost:8080/",
          "height": 622
        }
      },
      "source": [
        "homicides.plot(kind='scatter',s=5, figsize=(12,10), x='X_Coordinate',y='Y_Coordinate', color='black', title='Chicago Crime')\n",
        "\n",
        "# centroids\n",
        "centroidColors = {1: 'r', 2: 'b'}\n",
        "for i in centroids.keys(): \n",
        "    plt.scatter(*centroids[i], color = centroidColors[i])\n",
        "\n",
        "plt.show()"
      ],
      "execution_count": 46,
      "outputs": [
        {
          "output_type": "display_data",
          "data": {
            "image/png": "[encoded data removed]",
            "text/plain": [
              "<Figure size 864x720 with 1 Axes>"
            ]
          },
          "metadata": {
            "tags": []
          }
        }
      ]
    }
  ]
}