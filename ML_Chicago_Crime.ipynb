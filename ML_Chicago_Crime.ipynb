{
  "nbformat": 4,
  "nbformat_minor": 0,
  "metadata": {
    "colab": {
      "name": "ML-Chicago-Crime.ipynb",
      "provenance": [],
      "collapsed_sections": [],
      "toc_visible": true,
      "authorship_tag": "ABX9TyO+x3Yx0pC8MyDL8UiEYyO2",
      "include_colab_link": true
    },
    "kernelspec": {
      "name": "python3",
      "display_name": "Python 3"
    }
  },
  "cells": [
    {
      "cell_type": "markdown",
      "metadata": {
        "id": "view-in-github",
        "colab_type": "text"
      },
      "source": [
        "<a href=\"https://colab.research.google.com/github/jamahalwin/chicago-crime-analysis/blob/master/ML_Chicago_Crime.ipynb\" target=\"_parent\"><img src=\"https://colab.research.google.com/assets/colab-badge.svg\" alt=\"Open In Colab\"/></a>"
      ]
    },
    {
      "cell_type": "markdown",
      "metadata": {
        "id": "K2Yhh6W2gC4y",
        "colab_type": "text"
      },
      "source": [
        "Chicago Crime Analysis"
      ]
    },
    {
      "cell_type": "code",
      "metadata": {
        "id": "iHfna2zkgPqi",
        "colab_type": "code",
        "colab": {}
      },
      "source": [
        "# Use seaborn for pairplot\n",
        "!pip install seaborn\n",
        "\n",
        "# Use some functions from tensorflow_docs\n",
        "!pip install git+https://github.com/tensorflow/docs"
      ],
      "execution_count": 0,
      "outputs": []
    },
    {
      "cell_type": "code",
      "metadata": {
        "id": "30FWvguZgVlG",
        "colab_type": "code",
        "colab": {}
      },
      "source": [
        "from __future__ import absolute_import, division, print_function, unicode_literals\n",
        "\n",
        "import pathlib\n",
        "\n",
        "import matplotlib.pyplot as plt\n",
        "import numpy as np\n",
        "import pandas as pd\n",
        "import seaborn as sns"
      ],
      "execution_count": 0,
      "outputs": []
    },
    {
      "cell_type": "code",
      "metadata": {
        "id": "-j1Z8zUvgsUt",
        "colab_type": "code",
        "colab": {}
      },
      "source": [
        "import tensorflow as tf\n",
        "\n",
        "from tensorflow import keras\n",
        "from tensorflow.keras import layers"
      ],
      "execution_count": 0,
      "outputs": []
    },
    {
      "cell_type": "code",
      "metadata": {
        "colab_type": "code",
        "id": "p9kxxgzvzlyz",
        "colab": {}
      },
      "source": [
        "dataset_path =  keras.utils.get_file('chicago-crime-sample.data', 'https://raw.githubusercontent.com/jamahalwin/chicago-crime-analysis/master/Chicago_Crimes_Project_Data.csv')\n",
        "dataset_path"
      ],
      "execution_count": 0,
      "outputs": []
    },
    {
      "cell_type": "code",
      "metadata": {
        "id": "dCQcmzMshYos",
        "colab_type": "code",
        "colab": {
          "base_uri": "https://localhost:8080/",
          "height": 394
        },
        "outputId": "f7d5edd0-93f8-44fb-f4e9-29ec55cacc35"
      },
      "source": [
        "column_names = ['ID','Case Number', 'Date', 'Block', 'IUCR', 'Primary Type',\n",
        "                'Description', 'Location Description', 'Arrest',\n",
        "                'Domestic', 'Beat', 'District', 'Ward', 'Community Area',\n",
        "                'FBI Code', 'X Coordinate', 'Y Coordinate', 'Year', 'Updated On',\n",
        "                'Latitude', 'Longitude', 'Location']\n",
        "raw_dataset = pd.read_csv(dataset_path, names=column_names,\n",
        "                      na_values = \"?\", comment='\\t',\n",
        "                      sep=\",\", skipinitialspace=False)\n",
        "\n",
        "dataset = raw_dataset.copy()\n",
        "dataset.tail()"
      ],
      "execution_count": 8,
      "outputs": [
        {
          "output_type": "execute_result",
          "data": {
            "text/html": [
              "<div>\n",
              "<style scoped>\n",
              "    .dataframe tbody tr th:only-of-type {\n",
              "        vertical-align: middle;\n",
              "    }\n",
              "\n",
              "    .dataframe tbody tr th {\n",
              "        vertical-align: top;\n",
              "    }\n",
              "\n",
              "    .dataframe thead th {\n",
              "        text-align: right;\n",
              "    }\n",
              "</style>\n",
              "<table border=\"1\" class=\"dataframe\">\n",
              "  <thead>\n",
              "    <tr style=\"text-align: right;\">\n",
              "      <th></th>\n",
              "      <th>ID</th>\n",
              "      <th>Case Number</th>\n",
              "      <th>Date</th>\n",
              "      <th>Block</th>\n",
              "      <th>IUCR</th>\n",
              "      <th>Primary Type</th>\n",
              "      <th>Description</th>\n",
              "      <th>Location Description</th>\n",
              "      <th>Arrest</th>\n",
              "      <th>Domestic</th>\n",
              "      <th>Beat</th>\n",
              "      <th>District</th>\n",
              "      <th>Ward</th>\n",
              "      <th>Community Area</th>\n",
              "      <th>FBI Code</th>\n",
              "      <th>X Coordinate</th>\n",
              "      <th>Y Coordinate</th>\n",
              "      <th>Year</th>\n",
              "      <th>Updated On</th>\n",
              "      <th>Latitude</th>\n",
              "      <th>Longitude</th>\n",
              "      <th>Location</th>\n",
              "    </tr>\n",
              "  </thead>\n",
              "  <tbody>\n",
              "    <tr>\n",
              "      <th>77</th>\n",
              "      <td>10509764</td>\n",
              "      <td>HZ249689</td>\n",
              "      <td>5/3/2016 12:15</td>\n",
              "      <td>061XX S MORGAN ST</td>\n",
              "      <td>820</td>\n",
              "      <td>THEFT</td>\n",
              "      <td>$500 AND UNDER</td>\n",
              "      <td>APARTMENT</td>\n",
              "      <td>FALSE</td>\n",
              "      <td>FALSE</td>\n",
              "      <td>712</td>\n",
              "      <td>7</td>\n",
              "      <td>16</td>\n",
              "      <td>68</td>\n",
              "      <td>6</td>\n",
              "      <td>1170696</td>\n",
              "      <td>1864158</td>\n",
              "      <td>2016</td>\n",
              "      <td>5/10/2016 15:56</td>\n",
              "      <td>41.78272837</td>\n",
              "      <td>-87.64972028</td>\n",
              "      <td>(41.782728365, -87.649720276)</td>\n",
              "    </tr>\n",
              "    <tr>\n",
              "      <th>78</th>\n",
              "      <td>10509769</td>\n",
              "      <td>HZ251010</td>\n",
              "      <td>5/3/2016 20:30</td>\n",
              "      <td>014XX N AVERS AVE</td>\n",
              "      <td>320</td>\n",
              "      <td>ROBBERY</td>\n",
              "      <td>STRONGARM - NO WEAPON</td>\n",
              "      <td>SIDEWALK</td>\n",
              "      <td>FALSE</td>\n",
              "      <td>FALSE</td>\n",
              "      <td>2535</td>\n",
              "      <td>25</td>\n",
              "      <td>30</td>\n",
              "      <td>23</td>\n",
              "      <td>3</td>\n",
              "      <td>1150444</td>\n",
              "      <td>1909392</td>\n",
              "      <td>2016</td>\n",
              "      <td>5/10/2016 15:56</td>\n",
              "      <td>41.90727403</td>\n",
              "      <td>-87.72279189</td>\n",
              "      <td>(41.907274031, -87.722791892)</td>\n",
              "    </tr>\n",
              "    <tr>\n",
              "      <th>79</th>\n",
              "      <td>10509770</td>\n",
              "      <td>HZ250329</td>\n",
              "      <td>5/3/2016 9:00</td>\n",
              "      <td>048XX W EDDY ST</td>\n",
              "      <td>486</td>\n",
              "      <td>BATTERY</td>\n",
              "      <td>DOMESTIC BATTERY SIMPLE</td>\n",
              "      <td>APARTMENT</td>\n",
              "      <td>FALSE</td>\n",
              "      <td>TRUE</td>\n",
              "      <td>1634</td>\n",
              "      <td>16</td>\n",
              "      <td>38</td>\n",
              "      <td>15</td>\n",
              "      <td>08B</td>\n",
              "      <td>1143575</td>\n",
              "      <td>1923186</td>\n",
              "      <td>2016</td>\n",
              "      <td>5/10/2016 15:56</td>\n",
              "      <td>41.94525754</td>\n",
              "      <td>-87.74767892</td>\n",
              "      <td>(41.945257538, -87.74767892)</td>\n",
              "    </tr>\n",
              "    <tr>\n",
              "      <th>80</th>\n",
              "      <td>10509783</td>\n",
              "      <td>HZ251242</td>\n",
              "      <td>5/3/2016 12:15</td>\n",
              "      <td>013XX E 72ND ST</td>\n",
              "      <td>460</td>\n",
              "      <td>BATTERY</td>\n",
              "      <td>SIMPLE</td>\n",
              "      <td>SCHOOL, PUBLIC, BUILDING</td>\n",
              "      <td>FALSE</td>\n",
              "      <td>FALSE</td>\n",
              "      <td>324</td>\n",
              "      <td>3</td>\n",
              "      <td>5</td>\n",
              "      <td>43</td>\n",
              "      <td>08B</td>\n",
              "      <td>1186321</td>\n",
              "      <td>1857530</td>\n",
              "      <td>2016</td>\n",
              "      <td>5/10/2016 15:56</td>\n",
              "      <td>41.76418539</td>\n",
              "      <td>-87.5926442</td>\n",
              "      <td>(41.764185391, -87.592644199)</td>\n",
              "    </tr>\n",
              "    <tr>\n",
              "      <th>81</th>\n",
              "      <td>10509784</td>\n",
              "      <td>HZ251276</td>\n",
              "      <td>5/3/2016 20:00</td>\n",
              "      <td>062XX N NEWCASTLE AVE</td>\n",
              "      <td>810</td>\n",
              "      <td>THEFT</td>\n",
              "      <td>OVER $500</td>\n",
              "      <td>STREET</td>\n",
              "      <td>FALSE</td>\n",
              "      <td>FALSE</td>\n",
              "      <td>1611</td>\n",
              "      <td>16</td>\n",
              "      <td>41</td>\n",
              "      <td>10</td>\n",
              "      <td>6</td>\n",
              "      <td>1130189</td>\n",
              "      <td>1940933</td>\n",
              "      <td>2016</td>\n",
              "      <td>5/10/2016 15:56</td>\n",
              "      <td>41.99419755</td>\n",
              "      <td>-87.79647287</td>\n",
              "      <td>(41.994197554, -87.796472871)</td>\n",
              "    </tr>\n",
              "  </tbody>\n",
              "</table>\n",
              "</div>"
            ],
            "text/plain": [
              "          ID Case Number  ...     Longitude                       Location\n",
              "77  10509764    HZ249689  ...  -87.64972028  (41.782728365, -87.649720276)\n",
              "78  10509769    HZ251010  ...  -87.72279189  (41.907274031, -87.722791892)\n",
              "79  10509770    HZ250329  ...  -87.74767892   (41.945257538, -87.74767892)\n",
              "80  10509783    HZ251242  ...   -87.5926442  (41.764185391, -87.592644199)\n",
              "81  10509784    HZ251276  ...  -87.79647287  (41.994197554, -87.796472871)\n",
              "\n",
              "[5 rows x 22 columns]"
            ]
          },
          "metadata": {
            "tags": []
          },
          "execution_count": 8
        }
      ]
    }
  ]
}